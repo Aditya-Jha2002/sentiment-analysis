{
 "cells": [
  {
   "cell_type": "markdown",
   "metadata": {},
   "source": [
    "# EDA"
   ]
  },
  {
   "cell_type": "markdown",
   "metadata": {},
   "source": [
    "### Importing and reading the data file"
   ]
  },
  {
   "cell_type": "code",
   "execution_count": 6,
   "metadata": {},
   "outputs": [],
   "source": [
    "import pandas as pd\n",
    "import numpy as np\n",
    "import seaborn as sns\n",
    "import matplotlib.pyplot as plt"
   ]
  },
  {
   "cell_type": "code",
   "execution_count": 16,
   "metadata": {},
   "outputs": [],
   "source": [
    "df = pd.read_csv('../data/raw/airline_sentiment_analysis.csv')\n",
    "df.drop(\"Unnamed: 0\", axis=1, inplace=True)"
   ]
  },
  {
   "cell_type": "code",
   "execution_count": 17,
   "metadata": {},
   "outputs": [
    {
     "data": {
      "text/html": [
       "<div>\n",
       "<style scoped>\n",
       "    .dataframe tbody tr th:only-of-type {\n",
       "        vertical-align: middle;\n",
       "    }\n",
       "\n",
       "    .dataframe tbody tr th {\n",
       "        vertical-align: top;\n",
       "    }\n",
       "\n",
       "    .dataframe thead th {\n",
       "        text-align: right;\n",
       "    }\n",
       "</style>\n",
       "<table border=\"1\" class=\"dataframe\">\n",
       "  <thead>\n",
       "    <tr style=\"text-align: right;\">\n",
       "      <th></th>\n",
       "      <th>airline_sentiment</th>\n",
       "      <th>text</th>\n",
       "    </tr>\n",
       "  </thead>\n",
       "  <tbody>\n",
       "    <tr>\n",
       "      <th>0</th>\n",
       "      <td>positive</td>\n",
       "      <td>@VirginAmerica plus you've added commercials t...</td>\n",
       "    </tr>\n",
       "    <tr>\n",
       "      <th>1</th>\n",
       "      <td>negative</td>\n",
       "      <td>@VirginAmerica it's really aggressive to blast...</td>\n",
       "    </tr>\n",
       "    <tr>\n",
       "      <th>2</th>\n",
       "      <td>negative</td>\n",
       "      <td>@VirginAmerica and it's a really big bad thing...</td>\n",
       "    </tr>\n",
       "    <tr>\n",
       "      <th>3</th>\n",
       "      <td>negative</td>\n",
       "      <td>@VirginAmerica seriously would pay $30 a fligh...</td>\n",
       "    </tr>\n",
       "    <tr>\n",
       "      <th>4</th>\n",
       "      <td>positive</td>\n",
       "      <td>@VirginAmerica yes, nearly every time I fly VX...</td>\n",
       "    </tr>\n",
       "  </tbody>\n",
       "</table>\n",
       "</div>"
      ],
      "text/plain": [
       "  airline_sentiment                                               text\n",
       "0          positive  @VirginAmerica plus you've added commercials t...\n",
       "1          negative  @VirginAmerica it's really aggressive to blast...\n",
       "2          negative  @VirginAmerica and it's a really big bad thing...\n",
       "3          negative  @VirginAmerica seriously would pay $30 a fligh...\n",
       "4          positive  @VirginAmerica yes, nearly every time I fly VX..."
      ]
     },
     "execution_count": 17,
     "metadata": {},
     "output_type": "execute_result"
    }
   ],
   "source": [
    "df.head()"
   ]
  },
  {
   "cell_type": "markdown",
   "metadata": {},
   "source": [
    "### Data Statistics"
   ]
  },
  {
   "cell_type": "code",
   "execution_count": 18,
   "metadata": {},
   "outputs": [
    {
     "name": "stdout",
     "output_type": "stream",
     "text": [
      "Number of rows: 11541\n",
      "Number of columns: 2\n"
     ]
    }
   ],
   "source": [
    "print(f\"Number of rows: {df.shape[0]}\")\n",
    "print(f\"Number of columns: {df.shape[1]}\")"
   ]
  },
  {
   "cell_type": "code",
   "execution_count": 19,
   "metadata": {},
   "outputs": [
    {
     "name": "stdout",
     "output_type": "stream",
     "text": [
      "Number of missing values in each column: airline_sentiment    0\n",
      "text                 0\n",
      "dtype: int64\n"
     ]
    }
   ],
   "source": [
    "print(f\"Number of missing values in each column: {df.isnull().sum()}\")"
   ]
  },
  {
   "cell_type": "markdown",
   "metadata": {},
   "source": [
    "So there are 11541 data points, and 2 columns, first is the sentiment column (our target variable), second is the text columns which contains the tweet about the review of the airline.\n",
    "\n",
    "There is also no missing values."
   ]
  },
  {
   "cell_type": "code",
   "execution_count": 21,
   "metadata": {},
   "outputs": [
    {
     "data": {
      "text/plain": [
       "<AxesSubplot:xlabel='airline_sentiment', ylabel='count'>"
      ]
     },
     "execution_count": 21,
     "metadata": {},
     "output_type": "execute_result"
    },
    {
     "data": {
      "image/png": "[encoded data removed]",
      "text/plain": [
       "<Figure size 432x288 with 1 Axes>"
      ]
     },
     "metadata": {
      "needs_background": "light"
     },
     "output_type": "display_data"
    }
   ],
   "source": [
    "sns.countplot(x='airline_sentiment', data=df)"
   ]
  },
  {
   "cell_type": "markdown",
   "metadata": {},
   "source": [
    "So this is an imbalanced dataset. Thus we might want to choose our metrics a bit carefully."
   ]
  },
  {
   "cell_type": "code",
   "execution_count": 24,
   "metadata": {},
   "outputs": [],
   "source": [
    "df[\"airline_mentioned\"] = df[\"text\"].apply(lambda x: x.split()[0].replace(\"@\", \"\"))"
   ]
  },
  {
   "cell_type": "code",
   "execution_count": 29,
   "metadata": {},
   "outputs": [
    {
     "name": "stdout",
     "output_type": "stream",
     "text": [
      "Number of unique airlines mentioned: 197\n"
     ]
    }
   ],
   "source": [
    "print(f\"Number of unique airlines mentioned: {df.airline_mentioned.nunique()}\")"
   ]
  },
  {
   "cell_type": "code",
   "execution_count": 42,
   "metadata": {},
   "outputs": [
    {
     "name": "stdout",
     "output_type": "stream",
     "text": [
      "The most common airline mentioned is united           2904\n",
      "USAirways        2394\n",
      "AmericanAir      2201\n",
      "SouthwestAir     1678\n",
      "JetBlue          1349\n",
      "VirginAmerica     308\n",
      "United             93\n",
      "usairways          73\n",
      "jetblue            28\n",
      ".united            28\n",
      "americanair        27\n",
      "united,            25\n",
      "southwestair       25\n",
      "“JetBlue:          20\n",
      ".AmericanAir       18\n",
      "SouthwestAir,      14\n",
      "“united:           14\n",
      ".JetBlue           13\n",
      ".USAirways         13\n",
      "virginamerica      11\n",
      "“AmericanAir:      11\n",
      "united.            10\n",
      ".SouthwestAir       9\n",
      "I                   9\n",
      "Thank               8\n",
      "Name: airline_mentioned, dtype: int64\n"
     ]
    }
   ],
   "source": [
    "print(f\"The most common airline mentioned is {df.airline_mentioned.value_counts()[:25]}\")"
   ]
  },
  {
   "cell_type": "markdown",
   "metadata": {},
   "source": [
    "So there are mainly 6 airlines mentioned USAirways, AmericanAir, SouthwestAir, Jetblue, VirginAmerica, United."
   ]
  },
  {
   "cell_type": "code",
   "execution_count": 46,
   "metadata": {},
   "outputs": [
    {
     "data": {
      "text/plain": [
       "<AxesSubplot:xlabel='airline_mentioned'>"
      ]
     },
     "execution_count": 46,
     "metadata": {},
     "output_type": "execute_result"
    },
    {
     "data": {
      "image/png": "[encoded data removed]",
      "text/plain": [
       "<Figure size 432x288 with 1 Axes>"
      ]
     },
     "metadata": {
      "needs_background": "light"
     },
     "output_type": "display_data"
    }
   ],
   "source": [
    "sns.barplot(x = df.airline_mentioned.value_counts()[:6], y = df.airline_mentioned.value_counts()[:6].index)"
   ]
  },
  {
   "cell_type": "markdown",
   "metadata": {},
   "source": [
    "We will also have to insure that the accuracy for each of these airlines is good enough."
   ]
  },
  {
   "cell_type": "markdown",
   "metadata": {},
   "source": [
    "### Incorrect @ Statistics"
   ]
  },
  {
   "cell_type": "code",
   "execution_count": 49,
   "metadata": {},
   "outputs": [],
   "source": [
    "correct_mentions = sum(df.airline_mentioned.value_counts()[:6])\n",
    "incorrect_mentions = sum(df.airline_mentioned.value_counts()[6:])"
   ]
  },
  {
   "cell_type": "code",
   "execution_count": 65,
   "metadata": {},
   "outputs": [
    {
     "name": "stdout",
     "output_type": "stream",
     "text": [
      "number of correct airline mentions is 10834\n",
      "number of incorrect airline mentions is 707\n",
      "% of incorrect airline mentions is 93.4742477386007\n"
     ]
    }
   ],
   "source": [
    "print(f\"number of correct airline mentions is {correct_mentions}\")\n",
    "print(f\"number of incorrect airline mentions is {incorrect_mentions}\")\n",
    "print(f\"% of incorrect airline mentions is { (1 - (incorrect_mentions / correct_mentions)) * 100}\")"
   ]
  },
  {
   "cell_type": "markdown",
   "metadata": {},
   "source": [
    "### Text Data Analysis"
   ]
  },
  {
   "cell_type": "code",
   "execution_count": 60,
   "metadata": {},
   "outputs": [
    {
     "name": "stdout",
     "output_type": "stream",
     "text": [
      "% of rows which contain @ symbol is 100.0%\n"
     ]
    }
   ],
   "source": [
    "print(f\"% of rows which contain @ symbol is {df[df.text.str.contains('@')].shape[0]/len(df) * 100}%\")"
   ]
  },
  {
   "cell_type": "code",
   "execution_count": 68,
   "metadata": {},
   "outputs": [
    {
     "name": "stdout",
     "output_type": "stream",
     "text": [
      "Number of rows which don't contain @ as their first character: 299\n"
     ]
    }
   ],
   "source": [
    "print(f\"Number of rows which don't contain @ as their first character: {df[~df.text.str.startswith('@')].shape[0]}\")"
   ]
  },
  {
   "cell_type": "code",
   "execution_count": 70,
   "metadata": {},
   "outputs": [
    {
     "data": {
      "text/html": [
       "<div>\n",
       "<style scoped>\n",
       "    .dataframe tbody tr th:only-of-type {\n",
       "        vertical-align: middle;\n",
       "    }\n",
       "\n",
       "    .dataframe tbody tr th {\n",
       "        vertical-align: top;\n",
       "    }\n",
       "\n",
       "    .dataframe thead th {\n",
       "        text-align: right;\n",
       "    }\n",
       "</style>\n",
       "<table border=\"1\" class=\"dataframe\">\n",
       "  <thead>\n",
       "    <tr style=\"text-align: right;\">\n",
       "      <th></th>\n",
       "      <th>airline_sentiment</th>\n",
       "      <th>text</th>\n",
       "      <th>airline_mentioned</th>\n",
       "    </tr>\n",
       "  </thead>\n",
       "  <tbody>\n",
       "    <tr>\n",
       "      <th>1534</th>\n",
       "      <td>positive</td>\n",
       "      <td>Very quick! TY. @united: @auciello I am sorry ...</td>\n",
       "      <td>Very</td>\n",
       "    </tr>\n",
       "    <tr>\n",
       "      <th>101</th>\n",
       "      <td>negative</td>\n",
       "      <td>.@VirginAmerica does that mean you don't have ...</td>\n",
       "      <td>.VirginAmerica</td>\n",
       "    </tr>\n",
       "    <tr>\n",
       "      <th>5503</th>\n",
       "      <td>positive</td>\n",
       "      <td>Kudos well deserved! Just wish the rest of my ...</td>\n",
       "      <td>Kudos</td>\n",
       "    </tr>\n",
       "    <tr>\n",
       "      <th>2260</th>\n",
       "      <td>positive</td>\n",
       "      <td>“@united: @d_goodspeed We will follow up with ...</td>\n",
       "      <td>“united:</td>\n",
       "    </tr>\n",
       "    <tr>\n",
       "      <th>1619</th>\n",
       "      <td>negative</td>\n",
       "      <td>.@united I wouldn't describe feces sprinkled i...</td>\n",
       "      <td>.united</td>\n",
       "    </tr>\n",
       "    <tr>\n",
       "      <th>2963</th>\n",
       "      <td>negative</td>\n",
       "      <td>“@united: @qlyss8 We don't want our customers ...</td>\n",
       "      <td>“united:</td>\n",
       "    </tr>\n",
       "    <tr>\n",
       "      <th>8146</th>\n",
       "      <td>negative</td>\n",
       "      <td>All followers please note that @USAirways is n...</td>\n",
       "      <td>All</td>\n",
       "    </tr>\n",
       "    <tr>\n",
       "      <th>9614</th>\n",
       "      <td>positive</td>\n",
       "      <td>Thank you, @AmericanAir! Much appreciated.</td>\n",
       "      <td>Thank</td>\n",
       "    </tr>\n",
       "    <tr>\n",
       "      <th>5399</th>\n",
       "      <td>negative</td>\n",
       "      <td>Do less please @JetBlue</td>\n",
       "      <td>Do</td>\n",
       "    </tr>\n",
       "    <tr>\n",
       "      <th>5964</th>\n",
       "      <td>negative</td>\n",
       "      <td>“@JetBlue: @benjaminokeefe Thanks for includin...</td>\n",
       "      <td>“JetBlue:</td>\n",
       "    </tr>\n",
       "    <tr>\n",
       "      <th>1392</th>\n",
       "      <td>negative</td>\n",
       "      <td>“@united:That's not something we like to hear....</td>\n",
       "      <td>“united:That's</td>\n",
       "    </tr>\n",
       "    <tr>\n",
       "      <th>3451</th>\n",
       "      <td>negative</td>\n",
       "      <td>Wanted to get my bag benefit, but instead get ...</td>\n",
       "      <td>Wanted</td>\n",
       "    </tr>\n",
       "    <tr>\n",
       "      <th>11526</th>\n",
       "      <td>negative</td>\n",
       "      <td>I just need a place to sleep when I land witho...</td>\n",
       "      <td>I</td>\n",
       "    </tr>\n",
       "    <tr>\n",
       "      <th>5407</th>\n",
       "      <td>negative</td>\n",
       "      <td>STOP. USING.THIS.WORD. IF. YOU'RE. A. COMPANY....</td>\n",
       "      <td>STOP.</td>\n",
       "    </tr>\n",
       "    <tr>\n",
       "      <th>6892</th>\n",
       "      <td>positive</td>\n",
       "      <td>BY THE GRACE OF GOD, I MADE IT! “@USAirways: @...</td>\n",
       "      <td>BY</td>\n",
       "    </tr>\n",
       "    <tr>\n",
       "      <th>5394</th>\n",
       "      <td>negative</td>\n",
       "      <td>No no no bad airline bad! *bops you with newsp...</td>\n",
       "      <td>No</td>\n",
       "    </tr>\n",
       "    <tr>\n",
       "      <th>6494</th>\n",
       "      <td>negative</td>\n",
       "      <td>It's on me, @JetBlue! That's not what you said...</td>\n",
       "      <td>It's</td>\n",
       "    </tr>\n",
       "    <tr>\n",
       "      <th>6006</th>\n",
       "      <td>negative</td>\n",
       "      <td>Made it to #Costa #Rica and back @JetBlue Miss...</td>\n",
       "      <td>Made</td>\n",
       "    </tr>\n",
       "    <tr>\n",
       "      <th>5570</th>\n",
       "      <td>positive</td>\n",
       "      <td>“@JetBlue: @FinleyBklynCFS So glad to hear. Th...</td>\n",
       "      <td>“JetBlue:</td>\n",
       "    </tr>\n",
       "    <tr>\n",
       "      <th>9780</th>\n",
       "      <td>negative</td>\n",
       "      <td>.@AmericanAir how about connecting me with a c...</td>\n",
       "      <td>.AmericanAir</td>\n",
       "    </tr>\n",
       "  </tbody>\n",
       "</table>\n",
       "</div>"
      ],
      "text/plain": [
       "      airline_sentiment                                               text  \\\n",
       "1534           positive  Very quick! TY. @united: @auciello I am sorry ...   \n",
       "101            negative  .@VirginAmerica does that mean you don't have ...   \n",
       "5503           positive  Kudos well deserved! Just wish the rest of my ...   \n",
       "2260           positive  “@united: @d_goodspeed We will follow up with ...   \n",
       "1619           negative  .@united I wouldn't describe feces sprinkled i...   \n",
       "2963           negative  “@united: @qlyss8 We don't want our customers ...   \n",
       "8146           negative  All followers please note that @USAirways is n...   \n",
       "9614           positive         Thank you, @AmericanAir! Much appreciated.   \n",
       "5399           negative                            Do less please @JetBlue   \n",
       "5964           negative  “@JetBlue: @benjaminokeefe Thanks for includin...   \n",
       "1392           negative  “@united:That's not something we like to hear....   \n",
       "3451           negative  Wanted to get my bag benefit, but instead get ...   \n",
       "11526          negative  I just need a place to sleep when I land witho...   \n",
       "5407           negative  STOP. USING.THIS.WORD. IF. YOU'RE. A. COMPANY....   \n",
       "6892           positive  BY THE GRACE OF GOD, I MADE IT! “@USAirways: @...   \n",
       "5394           negative  No no no bad airline bad! *bops you with newsp...   \n",
       "6494           negative  It's on me, @JetBlue! That's not what you said...   \n",
       "6006           negative  Made it to #Costa #Rica and back @JetBlue Miss...   \n",
       "5570           positive  “@JetBlue: @FinleyBklynCFS So glad to hear. Th...   \n",
       "9780           negative  .@AmericanAir how about connecting me with a c...   \n",
       "\n",
       "      airline_mentioned  \n",
       "1534               Very  \n",
       "101      .VirginAmerica  \n",
       "5503              Kudos  \n",
       "2260           “united:  \n",
       "1619            .united  \n",
       "2963           “united:  \n",
       "8146                All  \n",
       "9614              Thank  \n",
       "5399                 Do  \n",
       "5964          “JetBlue:  \n",
       "1392     “united:That's  \n",
       "3451             Wanted  \n",
       "11526                 I  \n",
       "5407              STOP.  \n",
       "6892                 BY  \n",
       "5394                 No  \n",
       "6494               It's  \n",
       "6006               Made  \n",
       "5570          “JetBlue:  \n",
       "9780       .AmericanAir  "
      ]
     },
     "execution_count": 70,
     "metadata": {},
     "output_type": "execute_result"
    }
   ],
   "source": [
    "df[~df.text.str.startswith('@')].sample(20)"
   ]
  },
  {
   "cell_type": "code",
   "execution_count": null,
   "metadata": {},
   "outputs": [],
   "source": []
  }
 ],
 "metadata": {
  "kernelspec": {
   "display_name": "Python 3.10.4 64-bit",
   "language": "python",
   "name": "python3"
  },
  "language_info": {
   "codemirror_mode": {
    "name": "ipython",
    "version": 3
   },
   "file_extension": ".py",
   "mimetype": "text/x-python",
   "name": "python",
   "nbconvert_exporter": "python",
   "pygments_lexer": "ipython3",
   "version": "3.10.4"
  },
  "orig_nbformat": 4,
  "vscode": {
   "interpreter": {
    "hash": "aee8b7b246df8f9039afb4144a1f6fd8d2ca17a180786b69acc140d282b71a49"
   }
  }
 },
 "nbformat": 4,
 "nbformat_minor": 2
}
